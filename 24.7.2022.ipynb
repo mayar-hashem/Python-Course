{
 "cells": [
  {
   "cell_type": "code",
   "execution_count": 6,
   "id": "5e4db5c2",
   "metadata": {},
   "outputs": [
    {
     "name": "stdout",
     "output_type": "stream",
     "text": [
      "True\n",
      "False\n",
      "True\n"
     ]
    }
   ],
   "source": [
    "print('love' < 'zebra')\n",
    "print('love' < 'long')\n",
    "print( 'love' != 'long')\n"
   ]
  },
  {
   "cell_type": "code",
   "execution_count": 3,
   "id": "64c5a24d",
   "metadata": {},
   "outputs": [
    {
     "ename": "SyntaxError",
     "evalue": "invalid syntax (374237176.py, line 3)",
     "output_type": "error",
     "traceback": [
      "\u001b[1;36m  Input \u001b[1;32mIn [3]\u001b[1;36m\u001b[0m\n\u001b[1;33m    stri = 'I am' str2 = ' Mahmoud'\u001b[0m\n\u001b[1;37m                  ^\u001b[0m\n\u001b[1;31mSyntaxError\u001b[0m\u001b[1;31m:\u001b[0m invalid syntax\n"
     ]
    }
   ],
   "source": [
    "print('I am Mahmoud') \n",
    "print('I am' +' '+ 'Mahmoud')\n",
    "stri = 'I am' str2 = ' Mahmoud' \n",
    "print(stri + str2)\n",
    "str3 ='Hello' \n",
    "str4 = str3 + stri + str2 \n",
    "print (str4) \n",
    "print(stri *3) \n",
    "print(2 * str1 + str2)\n",
    "print('Hello\\tworld') \n",
    "print('Hello\\t\\tworld')"
   ]
  },
  {
   "cell_type": "code",
   "execution_count": 16,
   "id": "10cb8f72",
   "metadata": {},
   "outputs": [
    {
     "name": "stdout",
     "output_type": "stream",
     "text": [
      "3\n",
      "-2\n",
      "15\n",
      "7\n",
      "9\n"
     ]
    }
   ],
   "source": [
    "answer = min(3, 6) \n",
    "print(answer)\n",
    "\n",
    "answer = min(3, 6, -2) \n",
    "print (answer)\n",
    " \n",
    "answer = max(9, 6, -2, 15)\n",
    "print(answer)\n",
    "\n",
    "print( max(4, 7) ) \n",
    "print( max(4, 7) + 2)\n"
   ]
  },
  {
   "cell_type": "code",
   "execution_count": 21,
   "id": "72b471a5",
   "metadata": {
    "scrolled": true
   },
   "outputs": [
    {
     "name": "stdout",
     "output_type": "stream",
     "text": [
      "Name: mayar\n",
      "5\n"
     ]
    }
   ],
   "source": [
    "name=input(\"Name: \") \n",
    "char_no=len (name) \n",
    "print(char_no)\n",
    "\n"
   ]
  },
  {
   "cell_type": "code",
   "execution_count": 1,
   "id": "0a851428",
   "metadata": {},
   "outputs": [
    {
     "name": "stdout",
     "output_type": "stream",
     "text": [
      "Name: seif\n",
      "True\n",
      "False\n",
      "True\n",
      "False\n"
     ]
    }
   ],
   "source": [
    "name=input(\"Name: \") \n",
    "print('ei' in name) \n",
    "print('seef' in name) \n",
    "print('seif' in name) \n",
    "print('ef' in name) \n"
   ]
  },
  {
   "cell_type": "code",
   "execution_count": 2,
   "id": "f254993f",
   "metadata": {},
   "outputs": [
    {
     "name": "stdout",
     "output_type": "stream",
     "text": [
      "Salary:9000\n",
      "Work hard\n"
     ]
    }
   ],
   "source": [
    "salary = int(input('Salary:'))\n",
    "if salary < 1000:\n",
    "     print('You are poor')\n",
    "print('Work hard')"
   ]
  },
  {
   "cell_type": "code",
   "execution_count": null,
   "id": "d5bb1c58",
   "metadata": {},
   "outputs": [],
   "source": []
  }
 ],
 "metadata": {
  "kernelspec": {
   "display_name": "Python 3 (ipykernel)",
   "language": "python",
   "name": "python3"
  },
  "language_info": {
   "codemirror_mode": {
    "name": "ipython",
    "version": 3
   },
   "file_extension": ".py",
   "mimetype": "text/x-python",
   "name": "python",
   "nbconvert_exporter": "python",
   "pygments_lexer": "ipython3",
   "version": "3.9.12"
  }
 },
 "nbformat": 4,
 "nbformat_minor": 5
}
