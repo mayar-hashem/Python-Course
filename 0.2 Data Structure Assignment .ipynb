{
 "cells": [
  {
   "cell_type": "code",
   "execution_count": 1,
   "id": "8ed8dd9c",
   "metadata": {},
   "outputs": [
    {
     "name": "stdout",
     "output_type": "stream",
     "text": [
      "pratice makes perfect.\n",
      "childen must be taught\n",
      " how to think\n",
      " NOT\n",
      " what to think\n",
      "\"\"\n",
      "2 * 3 * 4 * 5 /10 = \n",
      "12.0\n"
     ]
    }
   ],
   "source": [
    "print('pratice', \"makes perfect.\")\n",
    "print(\"childen must be taught\\n how to think\\n NOT\\n what to think\")\n",
    "print(\"\\\"\\\"\")\n",
    "print('2 * 3 * 4 * 5 /10 = ')\n",
    "print(2 * 3 * 4 * 5 / 10)\n"
   ]
  },
  {
   "cell_type": "code",
   "execution_count": 5,
   "id": "bb9ccda4",
   "metadata": {},
   "outputs": [
    {
     "name": "stdout",
     "output_type": "stream",
     "text": [
      "me\n",
      "me\n"
     ]
    }
   ],
   "source": [
    "print('me')\n",
    "print(\"me\")\n",
    "print('me\") #this is wrong "
   ]
  },
  {
   "cell_type": "code",
   "execution_count": 6,
   "id": "7ce73ff4",
   "metadata": {},
   "outputs": [
    {
     "name": "stdout",
     "output_type": "stream",
     "text": [
      "*\n",
      "**\n",
      "***\n",
      "****\n",
      "*****\n"
     ]
    }
   ],
   "source": [
    "print('*')\n",
    "print('**')\n",
    "print('***')\n",
    "print('****')\n",
    "print('*****')"
   ]
  },
  {
   "cell_type": "code",
   "execution_count": 23,
   "id": "d5e6c8dc",
   "metadata": {},
   "outputs": [
    {
     "name": "stdout",
     "output_type": "stream",
     "text": [
      "    *\n",
      "   ***\n",
      "  *****\n",
      " *******\n",
      "*********\n"
     ]
    }
   ],
   "source": [
    "print('    *')\n",
    "print('   ***')\n",
    "print('  *****')\n",
    "print(' *******')\n",
    "print('*********')"
   ]
  },
  {
   "cell_type": "code",
   "execution_count": 24,
   "id": "135115cd",
   "metadata": {},
   "outputs": [
    {
     "name": "stdout",
     "output_type": "stream",
     "text": [
      "    *\n",
      "   ***\n",
      "  *****\n",
      " *******\n",
      "*********\n",
      "*********\n",
      " *******\n",
      "  *****\n",
      "   ***\n",
      "    *\n"
     ]
    }
   ],
   "source": [
    "print('    *')\n",
    "print('   ***')\n",
    "print('  *****')\n",
    "print(' *******')\n",
    "print('*********')\n",
    "print('*********')\n",
    "print(' *******')\n",
    "print('  *****')\n",
    "print('   ***')\n",
    "print('    *')"
   ]
  },
  {
   "cell_type": "code",
   "execution_count": 25,
   "id": "2da054de",
   "metadata": {},
   "outputs": [
    {
     "ename": "SyntaxError",
     "evalue": "invalid syntax (2949928709.py, line 3)",
     "output_type": "error",
     "traceback": [
      "\u001b[1;36m  Input \u001b[1;32mIn [25]\u001b[1;36m\u001b[0m\n\u001b[1;33m    print\"i am mayar\"\u001b[0m\n\u001b[1;37m         ^\u001b[0m\n\u001b[1;31mSyntaxError\u001b[0m\u001b[1;31m:\u001b[0m invalid syntax\n"
     ]
    }
   ],
   "source": [
    "print(hi)\n",
    "print()  \n",
    "print\"i am mayar\"\n",
    "print(3 * 6)\n",
    "print\"wonderful day\"\n",
    "print(\"wonderful day\")"
   ]
  }
 ],
 "metadata": {
  "kernelspec": {
   "display_name": "Python 3 (ipykernel)",
   "language": "python",
   "name": "python3"
  },
  "language_info": {
   "codemirror_mode": {
    "name": "ipython",
    "version": 3
   },
   "file_extension": ".py",
   "mimetype": "text/x-python",
   "name": "python",
   "nbconvert_exporter": "python",
   "pygments_lexer": "ipython3",
   "version": "3.9.12"
  }
 },
 "nbformat": 4,
 "nbformat_minor": 5
}
