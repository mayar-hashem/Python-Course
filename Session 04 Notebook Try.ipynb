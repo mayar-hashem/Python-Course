{
  "nbformat": 4,
  "nbformat_minor": 0,
  "metadata": {
    "colab": {
      "name": "Session 04 Notebook Try.ipynb",
      "provenance": [],
      "collapsed_sections": []
    },
    "kernelspec": {
      "name": "python3",
      "display_name": "Python 3"
    },
    "language_info": {
      "name": "python"
    }
  },
  "cells": [
    {
      "cell_type": "code",
      "source": [
        "for item in enumerate(range(5,8)):\n",
        "  idx, value = item\n",
        "  print(idx, value)\n",
        "\n",
        "\n",
        "for idx, value in enumerate(range(5,8)):\n",
        "  print(idx, value)\n",
        "\n",
        "  \n",
        "for idx, value in enumerate('ali'):\n",
        "  print(idx, value)"
      ],
      "metadata": {
        "colab": {
          "base_uri": "https://localhost:8080/"
        },
        "id": "l2sHFZo88XU9",
        "outputId": "35bb2aba-200c-42bd-f0b2-1a6989a673a0"
      },
      "execution_count": null,
      "outputs": [
        {
          "output_type": "stream",
          "name": "stdout",
          "text": [
            "0 5\n",
            "1 6\n",
            "2 7\n",
            "0 5\n",
            "1 6\n",
            "2 7\n",
            "0 a\n",
            "1 l\n",
            "2 i\n"
          ]
        }
      ]
    },
    {
      "cell_type": "code",
      "source": [
        "for item in enumerate('mayar'):\n",
        "  char, value = item\n",
        "  print(char,value)"
      ],
      "metadata": {
        "colab": {
          "base_uri": "https://localhost:8080/"
        },
        "id": "RHY-KUtRDQEn",
        "outputId": "4519d042-bea5-43d8-9e4e-108439a3c547"
      },
      "execution_count": null,
      "outputs": [
        {
          "output_type": "stream",
          "name": "stdout",
          "text": [
            "0 m\n",
            "1 a\n",
            "2 y\n",
            "3 a\n",
            "4 r\n"
          ]
        }
      ]
    },
    {
      "cell_type": "code",
      "source": [
        "x = 3\n",
        "\n",
        "def sum_two_nos(y):\n",
        "  x=2\n",
        "  sum_of_nos = x + y\n",
        "  return sum_of_nos"
      ],
      "metadata": {
        "id": "ZXRxxO_gDIOF"
      },
      "execution_count": null,
      "outputs": []
    },
    {
      "cell_type": "code",
      "source": [
        "print(x)"
      ],
      "metadata": {
        "colab": {
          "base_uri": "https://localhost:8080/"
        },
        "id": "reZpNIK0EoDz",
        "outputId": "ee774d24-40a6-4fc5-f465-167bb6f902ce"
      },
      "execution_count": null,
      "outputs": [
        {
          "output_type": "stream",
          "name": "stdout",
          "text": [
            "3\n"
          ]
        }
      ]
    },
    {
      "cell_type": "code",
      "source": [
        "sum_two_nos(5)"
      ],
      "metadata": {
        "colab": {
          "base_uri": "https://localhost:8080/"
        },
        "id": "YdQihoiRErZ6",
        "outputId": "93e8b888-75fe-4bfb-a091-2f66033583f8"
      },
      "execution_count": null,
      "outputs": [
        {
          "output_type": "execute_result",
          "data": {
            "text/plain": [
              "7"
            ]
          },
          "metadata": {},
          "execution_count": 21
        }
      ]
    },
    {
      "cell_type": "code",
      "source": [
        "\n",
        "\n",
        "def sum_two_nos(y):\n",
        "  x=2\n",
        "  sum_of_nos = x + y\n",
        "  print(x)\n",
        "  return x\n",
        "\n",
        "\n",
        "x = 3"
      ],
      "metadata": {
        "id": "F9248CuZE6ae"
      },
      "execution_count": null,
      "outputs": []
    },
    {
      "cell_type": "code",
      "source": [
        "print(x)"
      ],
      "metadata": {
        "colab": {
          "base_uri": "https://localhost:8080/"
        },
        "id": "l8F20hKtFBw4",
        "outputId": "86cebbc1-76cf-45e0-aecc-7b78e3b8a5c0"
      },
      "execution_count": null,
      "outputs": [
        {
          "output_type": "stream",
          "name": "stdout",
          "text": [
            "3\n"
          ]
        }
      ]
    },
    {
      "cell_type": "code",
      "source": [
        "name = \"mayar\"\n",
        "def outerFn():\n",
        "  name = \"omar\"\n",
        "\n",
        "  def inn():\n",
        "    print(name)\n",
        "\n",
        "\n",
        "  inn()\n",
        "\n",
        "\n",
        "outerFn()\n",
        "print(name)\n",
        "\n",
        "         "
      ],
      "metadata": {
        "colab": {
          "base_uri": "https://localhost:8080/"
        },
        "id": "RxgEbIXtGoyU",
        "outputId": "d81ac8ea-1bb0-4c73-ba4f-8a03b34845e1"
      },
      "execution_count": null,
      "outputs": [
        {
          "output_type": "stream",
          "name": "stdout",
          "text": [
            "omar\n",
            "mayar\n"
          ]
        }
      ]
    },
    {
      "cell_type": "code",
      "source": [
        "def f(a, b, c, d, e = 10):\n",
        "  print(a, b, c, d, e)\n",
        "\n",
        "f(1, 2, 3, 4, 5)"
      ],
      "metadata": {
        "colab": {
          "base_uri": "https://localhost:8080/"
        },
        "id": "-mJVqIoJMl4F",
        "outputId": "1aca7a79-8448-4c7a-91d6-1c30da85e57a"
      },
      "execution_count": null,
      "outputs": [
        {
          "output_type": "stream",
          "name": "stdout",
          "text": [
            "1 2 3 4 5\n"
          ]
        }
      ]
    },
    {
      "cell_type": "code",
      "source": [
        "def summ(x, y):\n",
        "\n",
        "  return x + y\n",
        "\n",
        "x = summ(5,10)\n",
        "y = summ(\"mayar\", \"hashem\")\n",
        "print(x,y)"
      ],
      "metadata": {
        "colab": {
          "base_uri": "https://localhost:8080/"
        },
        "id": "JE3CNF5RQPrT",
        "outputId": "e501c439-2b5a-413e-ee7b-e48a813ebf83"
      },
      "execution_count": null,
      "outputs": [
        {
          "output_type": "stream",
          "name": "stdout",
          "text": [
            "15 mayarhashem\n"
          ]
        }
      ]
    },
    {
      "cell_type": "markdown",
      "source": [
        "Docstring:"
      ],
      "metadata": {
        "id": "ICWQcrRYY7ru"
      }
    },
    {
      "cell_type": "code",
      "source": [
        "def square(n):\n",
        "    '''Takes in a number n, returns the square of n'''\n",
        "    return n**2\n",
        "\n",
        "print(square.__doc__)"
      ],
      "metadata": {
        "colab": {
          "base_uri": "https://localhost:8080/"
        },
        "id": "4-biHaVnVhjA",
        "outputId": "774d0b73-8568-42cd-be82-86cf54074db2"
      },
      "execution_count": null,
      "outputs": [
        {
          "output_type": "stream",
          "name": "stdout",
          "text": [
            "Takes in a number n, returns the square of n\n"
          ]
        }
      ]
    }
  ]
}