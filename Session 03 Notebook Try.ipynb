{
  "nbformat": 4,
  "nbformat_minor": 0,
  "metadata": {
    "colab": {
      "name": "Session 03 Trial.ipynb",
      "provenance": [],
      "collapsed_sections": []
    },
    "kernelspec": {
      "name": "python3",
      "display_name": "Python 3"
    },
    "language_info": {
      "name": "python"
    }
  },
  "cells": [
    {
      "cell_type": "code",
      "execution_count": null,
      "metadata": {
        "colab": {
          "base_uri": "https://localhost:8080/"
        },
        "id": "-gZHacOPkTLU",
        "outputId": "1645535a-cf20-4d90-b7ee-c9995f4cdfe4"
      },
      "outputs": [
        {
          "output_type": "stream",
          "name": "stdout",
          "text": [
            "1,2,3,4,5,"
          ]
        }
      ],
      "source": [
        "x=1\n",
        "while x<= 5:\n",
        "    print(x, end=',')\n",
        "    x=x+1\n",
        "    "
      ]
    },
    {
      "cell_type": "code",
      "source": [
        "val = int(input('enter your value: '))\n",
        "while (val<=5):\n",
        "    print('your val is', val)\n",
        "    val+=1"
      ],
      "metadata": {
        "id": "rdUVW3lokqBm",
        "colab": {
          "base_uri": "https://localhost:8080/"
        },
        "outputId": "5294346f-4826-4153-8bc4-f39cf1cfb24c"
      },
      "execution_count": 4,
      "outputs": [
        {
          "output_type": "stream",
          "name": "stdout",
          "text": [
            "enter your value: 1\n",
            "your val is 1\n",
            "your val is 2\n",
            "your val is 3\n",
            "your val is 4\n",
            "your val is 5\n"
          ]
        }
      ]
    },
    {
      "cell_type": "code",
      "source": [
        "height = int(input('enter your height: '))\n",
        "while (int(height) <= 165):\n",
        "    print('you are short')"
      ],
      "metadata": {
        "id": "ESXXspamlDMB"
      },
      "execution_count": null,
      "outputs": []
    },
    {
      "cell_type": "code",
      "source": [
        "sum= 0\n",
        "x= int(input('enter a number: '))\n",
        "while x>=0:\n",
        "  sum += x\n",
        "  x-=1\n",
        "print(sum)"
      ],
      "metadata": {
        "colab": {
          "base_uri": "https://localhost:8080/"
        },
        "id": "zce-FJlalD4J",
        "outputId": "26f1e732-f93b-4638-fdfa-b38126c59dde"
      },
      "execution_count": 7,
      "outputs": [
        {
          "output_type": "stream",
          "name": "stdout",
          "text": [
            "enter a number: 3\n",
            "6\n"
          ]
        }
      ]
    },
    {
      "cell_type": "code",
      "source": [
        "while val >0:\n",
        "  print('your val is', val)\n",
        "  break"
      ],
      "metadata": {
        "colab": {
          "base_uri": "https://localhost:8080/"
        },
        "id": "D7gcFKc8m1BX",
        "outputId": "08082be9-22f9-4338-d142-2bfd9b9cfc03"
      },
      "execution_count": 8,
      "outputs": [
        {
          "output_type": "stream",
          "name": "stdout",
          "text": [
            "your val is 6\n"
          ]
        }
      ]
    },
    {
      "cell_type": "code",
      "source": [
        "T = int(input('enter first number: '))\n",
        "while T >0:\n",
        "  num= int(input('enter second number: '))\n",
        "\n",
        "  sum=0\n",
        "  start=1\n",
        "  while start <= num:\n",
        "    sum+= start\n",
        "    start +=1\n",
        "\n",
        "    T-=1\n",
        "    print(\"sum from 1 to\", num, \"=\", sum)"
      ],
      "metadata": {
        "colab": {
          "base_uri": "https://localhost:8080/"
        },
        "id": "6leKqFkdnn8a",
        "outputId": "c3e197fd-1218-4c74-ebc9-f7080407d6dd"
      },
      "execution_count": 22,
      "outputs": [
        {
          "output_type": "stream",
          "name": "stdout",
          "text": [
            "enter first number: 5\n",
            "enter second number: 7\n",
            "sum from 1 to 7 = 1\n",
            "sum from 1 to 7 = 3\n",
            "sum from 1 to 7 = 6\n",
            "sum from 1 to 7 = 10\n",
            "sum from 1 to 7 = 15\n",
            "sum from 1 to 7 = 21\n",
            "sum from 1 to 7 = 28\n"
          ]
        }
      ]
    },
    {
      "cell_type": "code",
      "source": [
        "count = int(input('enter a number: '))\n",
        "start = 1\n",
        "\n",
        "while (count >=start):\n",
        "    print(start *\"*\")\n",
        "    start += 1"
      ],
      "metadata": {
        "colab": {
          "base_uri": "https://localhost:8080/"
        },
        "id": "t1M1PlY2ugI4",
        "outputId": "2f330d4d-ae9a-4c2d-ee31-b1abb4a4a0d5"
      },
      "execution_count": 46,
      "outputs": [
        {
          "output_type": "stream",
          "name": "stdout",
          "text": [
            "enter a number: 5\n",
            "*\n",
            "**\n",
            "***\n",
            "****\n",
            "*****\n"
          ]
        }
      ]
    },
    {
      "cell_type": "code",
      "source": [
        "for i in range(5): \n",
        "  print(i)"
      ],
      "metadata": {
        "colab": {
          "base_uri": "https://localhost:8080/"
        },
        "id": "TouVlb0BwKw8",
        "outputId": "b0f8968c-d5b2-4176-aa6a-0d42241275e0"
      },
      "execution_count": 49,
      "outputs": [
        {
          "output_type": "stream",
          "name": "stdout",
          "text": [
            "0\n",
            "1\n",
            "2\n",
            "3\n",
            "4\n"
          ]
        }
      ]
    },
    {
      "cell_type": "code",
      "source": [
        "for i in range(2,5):\n",
        "  print(i)"
      ],
      "metadata": {
        "colab": {
          "base_uri": "https://localhost:8080/"
        },
        "id": "_e0BmyUAw1OJ",
        "outputId": "7c047ddf-dbc8-4b2c-df3b-8dcd5fc634cf"
      },
      "execution_count": 50,
      "outputs": [
        {
          "output_type": "stream",
          "name": "stdout",
          "text": [
            "2\n",
            "3\n",
            "4\n"
          ]
        }
      ]
    },
    {
      "cell_type": "code",
      "source": [
        "for i in range(2,7,2):\n",
        "  print(i)"
      ],
      "metadata": {
        "colab": {
          "base_uri": "https://localhost:8080/"
        },
        "id": "z-hWO7JLw-vG",
        "outputId": "206adce1-cfb7-4611-e6d9-c194422679d5"
      },
      "execution_count": 51,
      "outputs": [
        {
          "output_type": "stream",
          "name": "stdout",
          "text": [
            "2\n",
            "4\n",
            "6\n"
          ]
        }
      ]
    },
    {
      "cell_type": "code",
      "source": [
        "for ii in range(0,100,10):\n",
        "  print(ii)"
      ],
      "metadata": {
        "colab": {
          "base_uri": "https://localhost:8080/"
        },
        "id": "Gf-lafJzx6mh",
        "outputId": "9b6e2d05-1fae-45ca-8c3c-02ee3c3e8ea4"
      },
      "execution_count": 52,
      "outputs": [
        {
          "output_type": "stream",
          "name": "stdout",
          "text": [
            "0\n",
            "10\n",
            "20\n",
            "30\n",
            "40\n",
            "50\n",
            "60\n",
            "70\n",
            "80\n",
            "90\n"
          ]
        }
      ]
    },
    {
      "cell_type": "code",
      "source": [
        "for i in range(5):\n",
        "  print(i)\n",
        "  if i==2:\n",
        "    pass"
      ],
      "metadata": {
        "colab": {
          "base_uri": "https://localhost:8080/"
        },
        "id": "6Tp055IYx_95",
        "outputId": "72e233ff-7363-41e7-a102-e6d9cfbe6c45"
      },
      "execution_count": 53,
      "outputs": [
        {
          "output_type": "stream",
          "name": "stdout",
          "text": [
            "0\n",
            "1\n",
            "2\n",
            "3\n",
            "4\n"
          ]
        }
      ]
    },
    {
      "cell_type": "code",
      "source": [
        "help(input)\n"
      ],
      "metadata": {
        "colab": {
          "base_uri": "https://localhost:8080/"
        },
        "id": "Jtys2KTAz9C5",
        "outputId": "b0b00b1f-8fc3-45a1-8d6a-9bc9bec3bcb3"
      },
      "execution_count": 54,
      "outputs": [
        {
          "output_type": "stream",
          "name": "stdout",
          "text": [
            "Help on method raw_input in module ipykernel.kernelbase:\n",
            "\n",
            "raw_input(prompt='') method of google.colab._kernel.Kernel instance\n",
            "    Forward raw_input to frontends\n",
            "    \n",
            "    Raises\n",
            "    ------\n",
            "    StdinNotImplentedError if active frontend doesn't support stdin.\n",
            "\n"
          ]
        }
      ]
    }
  ]
}